{
 "cells": [
  {
   "cell_type": "code",
   "id": "initial_id",
   "metadata": {
    "collapsed": true,
    "ExecuteTime": {
     "end_time": "2025-10-24T15:48:32.759251Z",
     "start_time": "2025-10-24T15:48:31.520850Z"
    }
   },
   "source": [
    "import joblib\n",
    "import numpy as np\n",
    "import pandas as pd\n",
    "from matplotlib import pyplot as plt\n",
    "from sklearn.model_selection import train_test_split\n",
    "from sklearn.ensemble import GradientBoostingClassifier\n",
    "from sklearn.metrics import accuracy_score, classification_report, confusion_matrix, f1_score"
   ],
   "outputs": [],
   "execution_count": 1
  },
  {
   "metadata": {
    "ExecuteTime": {
     "end_time": "2025-10-24T15:48:33.765208Z",
     "start_time": "2025-10-24T15:48:33.758883Z"
    }
   },
   "cell_type": "code",
   "source": "dataset = pd.read_csv('leagues_matches.csv')",
   "id": "1511caccd4da6a8c",
   "outputs": [],
   "execution_count": 2
  },
  {
   "metadata": {
    "ExecuteTime": {
     "end_time": "2025-10-24T15:48:34.495390Z",
     "start_time": "2025-10-24T15:48:34.490521Z"
    }
   },
   "cell_type": "code",
   "source": "print(f\"Missing values in dataset:\\n{dataset.isnull().sum()}\")",
   "id": "e1cce876f0936fda",
   "outputs": [
    {
     "name": "stdout",
     "output_type": "stream",
     "text": [
      "Missing values in dataset:\n",
      "league_id     0\n",
      "match_week    0\n",
      "home_team     0\n",
      "away_team     0\n",
      "result        0\n",
      "dtype: int64\n"
     ]
    }
   ],
   "execution_count": 3
  },
  {
   "metadata": {
    "ExecuteTime": {
     "end_time": "2025-10-24T15:48:35.259053Z",
     "start_time": "2025-10-24T15:48:35.250464Z"
    }
   },
   "cell_type": "code",
   "source": "print(f\"Dataset info:\\n{dataset.info()}\")",
   "id": "c1d0e1e382765d8b",
   "outputs": [
    {
     "name": "stdout",
     "output_type": "stream",
     "text": [
      "<class 'pandas.core.frame.DataFrame'>\n",
      "RangeIndex: 2093 entries, 0 to 2092\n",
      "Data columns (total 5 columns):\n",
      " #   Column      Non-Null Count  Dtype \n",
      "---  ------      --------------  ----- \n",
      " 0   league_id   2093 non-null   int64 \n",
      " 1   match_week  2093 non-null   int64 \n",
      " 2   home_team   2093 non-null   object\n",
      " 3   away_team   2093 non-null   object\n",
      " 4   result      2093 non-null   int64 \n",
      "dtypes: int64(3), object(2)\n",
      "memory usage: 81.9+ KB\n",
      "Dataset info:\n",
      "None\n"
     ]
    }
   ],
   "execution_count": 4
  },
  {
   "metadata": {
    "ExecuteTime": {
     "end_time": "2025-10-24T15:48:36.072061Z",
     "start_time": "2025-10-24T15:48:36.069327Z"
    }
   },
   "cell_type": "code",
   "source": "print(f\"Dataset columns:\\n{dataset.columns}\")",
   "id": "eeb09899b9f1db01",
   "outputs": [
    {
     "name": "stdout",
     "output_type": "stream",
     "text": [
      "Dataset columns:\n",
      "Index(['league_id', 'match_week', 'home_team', 'away_team', 'result'], dtype='object')\n"
     ]
    }
   ],
   "execution_count": 5
  },
  {
   "metadata": {
    "ExecuteTime": {
     "end_time": "2025-10-24T15:48:36.816882Z",
     "start_time": "2025-10-24T15:48:36.812915Z"
    }
   },
   "cell_type": "code",
   "source": [
    "teams = sorted(list(set(dataset[\"home_team\"]) | set(dataset[\"away_team\"])))\n",
    "team_to_id = {team: idx for idx, team in enumerate(teams)}\n",
    "id_to_team = {idx: team for team, idx in team_to_id.items()}"
   ],
   "id": "19b9ae301d8633e6",
   "outputs": [],
   "execution_count": 6
  },
  {
   "metadata": {
    "ExecuteTime": {
     "end_time": "2025-10-24T15:48:37.490855Z",
     "start_time": "2025-10-24T15:48:37.484739Z"
    }
   },
   "cell_type": "code",
   "source": [
    "dataset[\"home_id\"] = dataset[\"home_team\"].map(team_to_id)\n",
    "dataset[\"away_id\"] = dataset[\"away_team\"].map(team_to_id)"
   ],
   "id": "93ec022c630b5ccc",
   "outputs": [],
   "execution_count": 7
  },
  {
   "metadata": {
    "ExecuteTime": {
     "end_time": "2025-10-24T15:48:38.262845Z",
     "start_time": "2025-10-24T15:48:38.255192Z"
    }
   },
   "cell_type": "code",
   "source": [
    "dataset = dataset.drop(['home_team', 'away_team'], axis=1)\n",
    "\n",
    "y = dataset['result']\n",
    "x = dataset.drop('result', axis=1)"
   ],
   "id": "3a11f93e0810626e",
   "outputs": [],
   "execution_count": 8
  },
  {
   "metadata": {
    "ExecuteTime": {
     "end_time": "2025-10-24T15:48:39.098830Z",
     "start_time": "2025-10-24T15:48:39.093837Z"
    }
   },
   "cell_type": "code",
   "source": "x_train, x_test, y_train, y_test = train_test_split(x, y, test_size=0.2, random_state=42)",
   "id": "f4f74ae7e41e07ce",
   "outputs": [],
   "execution_count": 9
  },
  {
   "metadata": {
    "ExecuteTime": {
     "end_time": "2025-10-24T15:48:39.937447Z",
     "start_time": "2025-10-24T15:48:39.934357Z"
    }
   },
   "cell_type": "code",
   "source": [
    "def build_model(data_feat, data_target):\n",
    "    model = GradientBoostingClassifier(\n",
    "    n_estimators=500,\n",
    "    learning_rate=0.05,\n",
    "    max_depth=4,\n",
    "    min_samples_split=5,\n",
    "    min_samples_leaf=2,\n",
    "    subsample=0.8,\n",
    "    max_features='sqrt',\n",
    "    random_state=42\n",
    "    )\n",
    "    model.fit(data_feat, data_target)\n",
    "    return model"
   ],
   "id": "e51310cc9df02ced",
   "outputs": [],
   "execution_count": 10
  },
  {
   "metadata": {
    "ExecuteTime": {
     "end_time": "2025-10-24T15:48:41.273870Z",
     "start_time": "2025-10-24T15:48:41.269941Z"
    }
   },
   "cell_type": "code",
   "source": [
    "def evaluate_model(model, test_feat, test_target):\n",
    "    predictions = model.predict(test_feat)\n",
    "    accuracy = accuracy_score(test_target, predictions)\n",
    "    report = classification_report(test_target, predictions)\n",
    "    conf_matrix = confusion_matrix(test_target, predictions)\n",
    "    f1 = f1_score(test_target, predictions, average='weighted')\n",
    "\n",
    "    print(f'Accuracy: {accuracy:.4f}')\n",
    "    print(f'Classification Report:\\n{report}')\n",
    "    print(f'Confusion Matrix:\\n{conf_matrix}')\n",
    "    print(f'F1 Score: {f1:.4f}')\n",
    "\n",
    "    plt.figure(figsize=(8, 6))\n",
    "    plt.imshow(conf_matrix, interpolation='nearest', cmap=plt.cm.Blues)\n",
    "    plt.title('Confusion Matrix')\n",
    "    plt.colorbar()\n",
    "    tick_marks = np.arange(len(set(test_target)))\n",
    "    plt.xticks(tick_marks, tick_marks)\n",
    "    plt.yticks(tick_marks, tick_marks)\n",
    "    plt.xlabel('Predicted Label')\n",
    "    plt.ylabel('True Label')\n",
    "    plt.show()"
   ],
   "id": "2b2563d3974fae03",
   "outputs": [],
   "execution_count": 11
  },
  {
   "metadata": {
    "ExecuteTime": {
     "end_time": "2025-10-24T15:48:41.962353Z",
     "start_time": "2025-10-24T15:48:41.958583Z"
    }
   },
   "cell_type": "code",
   "source": [
    "def save_model():\n",
    "    try:\n",
    "        joblib.dump(offside_mind, 'model/offside_mind_model.pkl')\n",
    "        joblib.dump(id_to_team, 'model/id_to_team.pkl')\n",
    "        joblib.dump(team_to_id, 'model/team_to_id.pkl')\n",
    "        print(\"Model and mappings saved successfully.\")\n",
    "    except Exception as e:\n",
    "        print(f\"Error saving model: {e}\")"
   ],
   "id": "76d0ce82c1506275",
   "outputs": [],
   "execution_count": 12
  },
  {
   "metadata": {
    "ExecuteTime": {
     "end_time": "2025-10-24T15:48:48.152454Z",
     "start_time": "2025-10-24T15:48:46.609329Z"
    }
   },
   "cell_type": "code",
   "source": "offside_mind = build_model(x_train, y_train)",
   "id": "388a7813de1e5ca",
   "outputs": [],
   "execution_count": 13
  },
  {
   "metadata": {
    "ExecuteTime": {
     "end_time": "2025-10-24T15:48:50.654781Z",
     "start_time": "2025-10-24T15:48:50.502870Z"
    }
   },
   "cell_type": "code",
   "source": "evaluate_model(offside_mind, x_test, y_test)",
   "id": "350352feb19fae27",
   "outputs": [
    {
     "name": "stdout",
     "output_type": "stream",
     "text": [
      "Accuracy: 0.4940\n",
      "Classification Report:\n",
      "              precision    recall  f1-score   support\n",
      "\n",
      "          -1       0.49      0.48      0.49       139\n",
      "           0       0.35      0.26      0.29       109\n",
      "           1       0.55      0.65      0.60       171\n",
      "\n",
      "    accuracy                           0.49       419\n",
      "   macro avg       0.46      0.46      0.46       419\n",
      "weighted avg       0.48      0.49      0.48       419\n",
      "\n",
      "Confusion Matrix:\n",
      "[[ 67  30  42]\n",
      " [ 33  28  48]\n",
      " [ 36  23 112]]\n",
      "F1 Score: 0.4834\n"
     ]
    },
    {
     "data": {
      "text/plain": [
       "<Figure size 800x600 with 2 Axes>"
      ],
      "image/png": "[encoded data removed]"
     },
     "metadata": {},
     "output_type": "display_data"
    }
   ],
   "execution_count": 14
  },
  {
   "metadata": {
    "ExecuteTime": {
     "end_time": "2025-10-24T15:51:36.301493Z",
     "start_time": "2025-10-24T15:51:36.273248Z"
    }
   },
   "cell_type": "code",
   "source": "save_model()",
   "id": "934a82e837903f35",
   "outputs": [
    {
     "name": "stdout",
     "output_type": "stream",
     "text": [
      "Model and mappings saved successfully.\n"
     ]
    }
   ],
   "execution_count": 15
  }
 ],
 "metadata": {
  "kernelspec": {
   "display_name": "Python 3",
   "language": "python",
   "name": "python3"
  },
  "language_info": {
   "codemirror_mode": {
    "name": "ipython",
    "version": 2
   },
   "file_extension": ".py",
   "mimetype": "text/x-python",
   "name": "python",
   "nbconvert_exporter": "python",
   "pygments_lexer": "ipython2",
   "version": "2.7.6"
  }
 },
 "nbformat": 4,
 "nbformat_minor": 5
}
